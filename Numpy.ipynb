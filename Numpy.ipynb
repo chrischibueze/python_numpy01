{
 "cells": [
  {
   "cell_type": "code",
   "execution_count": 118,
   "id": "db9ba64a",
   "metadata": {},
   "outputs": [],
   "source": [
    "import numpy as np"
   ]
  },
  {
   "cell_type": "code",
   "execution_count": 119,
   "id": "fd1dba90",
   "metadata": {},
   "outputs": [
    {
     "data": {
      "text/plain": [
       "'1.21.5'"
      ]
     },
     "execution_count": 119,
     "metadata": {},
     "output_type": "execute_result"
    }
   ],
   "source": [
    "np.__version__"
   ]
  },
  {
   "cell_type": "code",
   "execution_count": 120,
   "id": "b5a0b926",
   "metadata": {},
   "outputs": [],
   "source": [
    "a = np.array([1,2,3,4,5])"
   ]
  },
  {
   "cell_type": "code",
   "execution_count": 121,
   "id": "25ecd1ea",
   "metadata": {},
   "outputs": [
    {
     "name": "stdout",
     "output_type": "stream",
     "text": [
      "[1 2 3 4 5]\n"
     ]
    }
   ],
   "source": [
    "print(a)"
   ]
  },
  {
   "cell_type": "code",
   "execution_count": 122,
   "id": "c37ab075",
   "metadata": {},
   "outputs": [
    {
     "name": "stdout",
     "output_type": "stream",
     "text": [
      "int32\n"
     ]
    }
   ],
   "source": [
    "print(a.dtype)"
   ]
  },
  {
   "cell_type": "code",
   "execution_count": 123,
   "id": "1b9a7ea5",
   "metadata": {},
   "outputs": [
    {
     "name": "stdout",
     "output_type": "stream",
     "text": [
      "(5,)\n"
     ]
    }
   ],
   "source": [
    "print(a.shape)"
   ]
  },
  {
   "cell_type": "code",
   "execution_count": 124,
   "id": "3876965b",
   "metadata": {},
   "outputs": [
    {
     "name": "stdout",
     "output_type": "stream",
     "text": [
      "1\n"
     ]
    }
   ],
   "source": [
    "print(a.ndim)"
   ]
  },
  {
   "cell_type": "code",
   "execution_count": 125,
   "id": "7819f929",
   "metadata": {},
   "outputs": [
    {
     "name": "stdout",
     "output_type": "stream",
     "text": [
      "5\n"
     ]
    }
   ],
   "source": [
    "print(a.size)"
   ]
  },
  {
   "cell_type": "code",
   "execution_count": 126,
   "id": "3bbd9d3b",
   "metadata": {},
   "outputs": [
    {
     "name": "stdout",
     "output_type": "stream",
     "text": [
      "4\n"
     ]
    }
   ],
   "source": [
    "print(a.itemsize)"
   ]
  },
  {
   "cell_type": "code",
   "execution_count": 127,
   "id": "83896b1b",
   "metadata": {},
   "outputs": [
    {
     "data": {
      "text/plain": [
       "1"
      ]
     },
     "execution_count": 127,
     "metadata": {},
     "output_type": "execute_result"
    }
   ],
   "source": [
    "a[0]"
   ]
  },
  {
   "cell_type": "code",
   "execution_count": 128,
   "id": "0698db70",
   "metadata": {},
   "outputs": [],
   "source": [
    "a[0]=6"
   ]
  },
  {
   "cell_type": "code",
   "execution_count": 129,
   "id": "2aad140c",
   "metadata": {},
   "outputs": [
    {
     "data": {
      "text/plain": [
       "6"
      ]
     },
     "execution_count": 129,
     "metadata": {},
     "output_type": "execute_result"
    }
   ],
   "source": [
    "a[0]"
   ]
  },
  {
   "cell_type": "code",
   "execution_count": 130,
   "id": "1ba11b30",
   "metadata": {},
   "outputs": [],
   "source": [
    "b = np.array([3,4,5,6,4])"
   ]
  },
  {
   "cell_type": "code",
   "execution_count": 131,
   "id": "1bedf3db",
   "metadata": {},
   "outputs": [],
   "source": [
    "c = a*b"
   ]
  },
  {
   "cell_type": "code",
   "execution_count": 132,
   "id": "4147e245",
   "metadata": {},
   "outputs": [
    {
     "name": "stdout",
     "output_type": "stream",
     "text": [
      "[18  8 15 24 20]\n"
     ]
    }
   ],
   "source": [
    "print(c)"
   ]
  },
  {
   "cell_type": "code",
   "execution_count": 133,
   "id": "88f4b6d2",
   "metadata": {},
   "outputs": [
    {
     "name": "stdout",
     "output_type": "stream",
     "text": [
      "85\n"
     ]
    }
   ],
   "source": [
    "print(c.sum())"
   ]
  },
  {
   "cell_type": "code",
   "execution_count": 134,
   "id": "f705bafa",
   "metadata": {},
   "outputs": [],
   "source": [
    "#diff between array and list"
   ]
  },
  {
   "cell_type": "code",
   "execution_count": 135,
   "id": "505f3757",
   "metadata": {},
   "outputs": [],
   "source": [
    "l =[1,2,3]"
   ]
  },
  {
   "cell_type": "code",
   "execution_count": 136,
   "id": "48e382a9",
   "metadata": {},
   "outputs": [],
   "source": [
    "r = np.array([2,5,6])"
   ]
  },
  {
   "cell_type": "code",
   "execution_count": 137,
   "id": "dea857c7",
   "metadata": {},
   "outputs": [
    {
     "name": "stdout",
     "output_type": "stream",
     "text": [
      "[1, 2, 3]\n",
      "[2 5 6]\n"
     ]
    }
   ],
   "source": [
    "print(l)\n",
    "print(r)"
   ]
  },
  {
   "cell_type": "code",
   "execution_count": 138,
   "id": "0b538256",
   "metadata": {},
   "outputs": [
    {
     "data": {
      "text/plain": [
       "[1, 2, 3, 1, 2, 3]"
      ]
     },
     "execution_count": 138,
     "metadata": {},
     "output_type": "execute_result"
    }
   ],
   "source": [
    "2*l"
   ]
  },
  {
   "cell_type": "code",
   "execution_count": 139,
   "id": "1dd52966",
   "metadata": {},
   "outputs": [
    {
     "data": {
      "text/plain": [
       "array([ 4, 10, 12])"
      ]
     },
     "execution_count": 139,
     "metadata": {},
     "output_type": "execute_result"
    }
   ],
   "source": [
    "2*r"
   ]
  },
  {
   "cell_type": "code",
   "execution_count": 140,
   "id": "80866076",
   "metadata": {},
   "outputs": [],
   "source": [
    "#dot product"
   ]
  },
  {
   "cell_type": "code",
   "execution_count": 141,
   "id": "750638d4",
   "metadata": {},
   "outputs": [],
   "source": [
    "da = np.array([1,2])\n",
    "db = np.array([3,4])"
   ]
  },
  {
   "cell_type": "code",
   "execution_count": 142,
   "id": "6551f243",
   "metadata": {},
   "outputs": [
    {
     "name": "stdout",
     "output_type": "stream",
     "text": [
      "3\n",
      "11\n"
     ]
    }
   ],
   "source": [
    "dot = 0\n",
    "for i in range(len(da)):\n",
    "    dot += da[i] * db[i]\n",
    "    print(dot)"
   ]
  },
  {
   "cell_type": "code",
   "execution_count": 143,
   "id": "230ab88b",
   "metadata": {},
   "outputs": [],
   "source": [
    "#using numpy dot"
   ]
  },
  {
   "cell_type": "code",
   "execution_count": 144,
   "id": "9981c406",
   "metadata": {},
   "outputs": [],
   "source": [
    "dot = np.dot(da,db)"
   ]
  },
  {
   "cell_type": "code",
   "execution_count": 145,
   "id": "7fb09d77",
   "metadata": {},
   "outputs": [
    {
     "name": "stdout",
     "output_type": "stream",
     "text": [
      "11\n"
     ]
    }
   ],
   "source": [
    "print(dot)"
   ]
  },
  {
   "cell_type": "code",
   "execution_count": 146,
   "id": "3df735c1",
   "metadata": {},
   "outputs": [],
   "source": [
    "#newer version of dot "
   ]
  },
  {
   "cell_type": "code",
   "execution_count": 147,
   "id": "ad79e55f",
   "metadata": {},
   "outputs": [
    {
     "data": {
      "text/plain": [
       "11"
      ]
     },
     "execution_count": 147,
     "metadata": {},
     "output_type": "execute_result"
    }
   ],
   "source": [
    "da.dot(db)"
   ]
  },
  {
   "cell_type": "code",
   "execution_count": 148,
   "id": "a6fa9f2b",
   "metadata": {},
   "outputs": [],
   "source": [
    "#newer version"
   ]
  },
  {
   "cell_type": "code",
   "execution_count": 149,
   "id": "c0d65860",
   "metadata": {},
   "outputs": [
    {
     "data": {
      "text/plain": [
       "11"
      ]
     },
     "execution_count": 149,
     "metadata": {},
     "output_type": "execute_result"
    }
   ],
   "source": [
    "da@db"
   ]
  },
  {
   "cell_type": "code",
   "execution_count": 150,
   "id": "3bddc7db",
   "metadata": {},
   "outputs": [],
   "source": [
    "#speed Test of numpy array and list"
   ]
  },
  {
   "cell_type": "code",
   "execution_count": 151,
   "id": "0fed633d",
   "metadata": {},
   "outputs": [],
   "source": [
    "from timeit import default_timer as timer"
   ]
  },
  {
   "cell_type": "code",
   "execution_count": 152,
   "id": "b2464d17",
   "metadata": {},
   "outputs": [],
   "source": [
    "a = np.random.randn(1000)"
   ]
  },
  {
   "cell_type": "code",
   "execution_count": 153,
   "id": "2ab0a1c9",
   "metadata": {},
   "outputs": [],
   "source": [
    "b = np.random.randn(1000)"
   ]
  },
  {
   "cell_type": "code",
   "execution_count": 154,
   "id": "ad31dc71",
   "metadata": {},
   "outputs": [],
   "source": [
    "A = list(a)"
   ]
  },
  {
   "cell_type": "code",
   "execution_count": 155,
   "id": "b647fc0d",
   "metadata": {},
   "outputs": [],
   "source": [
    "B = list(b)"
   ]
  },
  {
   "cell_type": "code",
   "execution_count": 156,
   "id": "562dfb58",
   "metadata": {},
   "outputs": [],
   "source": [
    "T = 100"
   ]
  },
  {
   "cell_type": "code",
   "execution_count": 157,
   "id": "2192583c",
   "metadata": {},
   "outputs": [
    {
     "ename": "IndentationError",
     "evalue": "expected an indented block (2037896248.py, line 4)",
     "output_type": "error",
     "traceback": [
      "\u001b[1;36m  Input \u001b[1;32mIn [157]\u001b[1;36m\u001b[0m\n\u001b[1;33m    dot += A[i]*B[i]\u001b[0m\n\u001b[1;37m    ^\u001b[0m\n\u001b[1;31mIndentationError\u001b[0m\u001b[1;31m:\u001b[0m expected an indented block\n"
     ]
    }
   ],
   "source": [
    "def dot1():\n",
    "    dot = 0\n",
    "    for i in range(len(A)):\n",
    "    dot += A[i]*B[i]\n",
    "    return dot\n"
   ]
  },
  {
   "cell_type": "code",
   "execution_count": 158,
   "id": "513273bb",
   "metadata": {},
   "outputs": [],
   "source": [
    "def dot2():\n",
    "    return np.dot(a,b)"
   ]
  },
  {
   "cell_type": "code",
   "execution_count": null,
   "id": "e71585fe",
   "metadata": {},
   "outputs": [],
   "source": []
  },
  {
   "cell_type": "code",
   "execution_count": 159,
   "id": "1bff7e75",
   "metadata": {},
   "outputs": [],
   "source": [
    "#multi dimensional array "
   ]
  },
  {
   "cell_type": "code",
   "execution_count": 160,
   "id": "ae133fcb",
   "metadata": {},
   "outputs": [],
   "source": [
    "a = np.array([[1,2],[3,4]])"
   ]
  },
  {
   "cell_type": "code",
   "execution_count": 161,
   "id": "3fb9c274",
   "metadata": {},
   "outputs": [
    {
     "data": {
      "text/plain": [
       "array([[1, 2],\n",
       "       [3, 4]])"
      ]
     },
     "execution_count": 161,
     "metadata": {},
     "output_type": "execute_result"
    }
   ],
   "source": [
    "a"
   ]
  },
  {
   "cell_type": "code",
   "execution_count": 162,
   "id": "c4d8cf90",
   "metadata": {},
   "outputs": [
    {
     "data": {
      "text/plain": [
       "(2, 2)"
      ]
     },
     "execution_count": 162,
     "metadata": {},
     "output_type": "execute_result"
    }
   ],
   "source": [
    "a.shape"
   ]
  },
  {
   "cell_type": "code",
   "execution_count": 163,
   "id": "7c3e1ee0",
   "metadata": {},
   "outputs": [],
   "source": [
    "#access elements\n",
    "#row first, then column"
   ]
  },
  {
   "cell_type": "code",
   "execution_count": 164,
   "id": "3d96ed90",
   "metadata": {},
   "outputs": [
    {
     "name": "stdout",
     "output_type": "stream",
     "text": [
      "[1 2]\n"
     ]
    }
   ],
   "source": [
    "print(a[0])"
   ]
  },
  {
   "cell_type": "code",
   "execution_count": 165,
   "id": "d81f488a",
   "metadata": {},
   "outputs": [
    {
     "name": "stdout",
     "output_type": "stream",
     "text": [
      "1\n"
     ]
    }
   ],
   "source": [
    "print(a[0][0])"
   ]
  },
  {
   "cell_type": "code",
   "execution_count": 166,
   "id": "bf66bc51",
   "metadata": {},
   "outputs": [
    {
     "name": "stdout",
     "output_type": "stream",
     "text": [
      "[1 3]\n"
     ]
    }
   ],
   "source": [
    "print(a[:,0])"
   ]
  },
  {
   "cell_type": "code",
   "execution_count": 167,
   "id": "82eb5131",
   "metadata": {},
   "outputs": [
    {
     "name": "stdout",
     "output_type": "stream",
     "text": [
      "1\n"
     ]
    }
   ],
   "source": [
    "print(a[0,0])"
   ]
  },
  {
   "cell_type": "code",
   "execution_count": 168,
   "id": "e31b8dc3",
   "metadata": {},
   "outputs": [
    {
     "name": "stdout",
     "output_type": "stream",
     "text": [
      "[1 2]\n"
     ]
    }
   ],
   "source": [
    "print(a[0,: ])"
   ]
  },
  {
   "cell_type": "code",
   "execution_count": 169,
   "id": "140e67ef",
   "metadata": {},
   "outputs": [],
   "source": [
    "#transpose"
   ]
  },
  {
   "cell_type": "code",
   "execution_count": 170,
   "id": "48694ae1",
   "metadata": {},
   "outputs": [
    {
     "name": "stdout",
     "output_type": "stream",
     "text": [
      "[[1 2]\n",
      " [3 4]] 100\n"
     ]
    }
   ],
   "source": [
    "print(a,T)"
   ]
  },
  {
   "cell_type": "code",
   "execution_count": 171,
   "id": "d37a144d",
   "metadata": {},
   "outputs": [
    {
     "name": "stdout",
     "output_type": "stream",
     "text": [
      "100 [[1 2]\n",
      " [3 4]]\n"
     ]
    }
   ],
   "source": [
    "print(T,a)"
   ]
  },
  {
   "cell_type": "code",
   "execution_count": 172,
   "id": "3e20527a",
   "metadata": {},
   "outputs": [],
   "source": [
    "#matrix multiplication"
   ]
  },
  {
   "cell_type": "code",
   "execution_count": 173,
   "id": "19890790",
   "metadata": {},
   "outputs": [],
   "source": [
    "d =  np.array([[3,4],[5,6]])"
   ]
  },
  {
   "cell_type": "code",
   "execution_count": 174,
   "id": "cbbe3f57",
   "metadata": {},
   "outputs": [],
   "source": [
    "u = a@d"
   ]
  },
  {
   "cell_type": "code",
   "execution_count": 175,
   "id": "f58353e1",
   "metadata": {},
   "outputs": [
    {
     "name": "stdout",
     "output_type": "stream",
     "text": [
      "[[13 16]\n",
      " [29 36]]\n"
     ]
    }
   ],
   "source": [
    "print(u)"
   ]
  },
  {
   "cell_type": "code",
   "execution_count": 176,
   "id": "08b60b51",
   "metadata": {},
   "outputs": [],
   "source": [
    "z = a.dot(d)"
   ]
  },
  {
   "cell_type": "code",
   "execution_count": 177,
   "id": "37ba288c",
   "metadata": {},
   "outputs": [
    {
     "name": "stdout",
     "output_type": "stream",
     "text": [
      "[[13 16]\n",
      " [29 36]]\n"
     ]
    }
   ],
   "source": [
    "print(z)"
   ]
  },
  {
   "cell_type": "code",
   "execution_count": 178,
   "id": "074190bd",
   "metadata": {},
   "outputs": [
    {
     "name": "stdout",
     "output_type": "stream",
     "text": [
      "[[ 3  8]\n",
      " [15 24]]\n"
     ]
    }
   ],
   "source": [
    "print(a*d)"
   ]
  },
  {
   "cell_type": "code",
   "execution_count": 179,
   "id": "db008151",
   "metadata": {},
   "outputs": [],
   "source": [
    "b = np.array([[1,2,3],[4,5,4]])"
   ]
  },
  {
   "cell_type": "code",
   "execution_count": 180,
   "id": "17f6ac3e",
   "metadata": {},
   "outputs": [],
   "source": [
    "f = a.dot(b)"
   ]
  },
  {
   "cell_type": "code",
   "execution_count": 181,
   "id": "ecf9bb47",
   "metadata": {},
   "outputs": [
    {
     "name": "stdout",
     "output_type": "stream",
     "text": [
      "[[ 9 12 11]\n",
      " [19 26 25]]\n"
     ]
    }
   ],
   "source": [
    "print(f)"
   ]
  },
  {
   "cell_type": "code",
   "execution_count": 182,
   "id": "75cba822",
   "metadata": {},
   "outputs": [],
   "source": [
    "#determinants"
   ]
  },
  {
   "cell_type": "code",
   "execution_count": 183,
   "id": "1648c869",
   "metadata": {},
   "outputs": [],
   "source": [
    "lst = [1,2,4,5]"
   ]
  },
  {
   "cell_type": "code",
   "execution_count": 184,
   "id": "86a6aa80",
   "metadata": {},
   "outputs": [],
   "source": [
    "lst.sort()"
   ]
  },
  {
   "cell_type": "code",
   "execution_count": 185,
   "id": "86a118f0",
   "metadata": {},
   "outputs": [
    {
     "data": {
      "text/plain": [
       "4"
      ]
     },
     "execution_count": 185,
     "metadata": {},
     "output_type": "execute_result"
    }
   ],
   "source": [
    "lst[len(lst)//2]"
   ]
  },
  {
   "cell_type": "code",
   "execution_count": 186,
   "id": "b429b279",
   "metadata": {},
   "outputs": [
    {
     "data": {
      "text/plain": [
       "4"
      ]
     },
     "execution_count": 186,
     "metadata": {},
     "output_type": "execute_result"
    }
   ],
   "source": [
    "lst[-2]"
   ]
  },
  {
   "cell_type": "code",
   "execution_count": 187,
   "id": "77240dba",
   "metadata": {},
   "outputs": [],
   "source": [
    "lst[1] = 19"
   ]
  },
  {
   "cell_type": "code",
   "execution_count": 188,
   "id": "d381d3e8",
   "metadata": {},
   "outputs": [
    {
     "data": {
      "text/plain": [
       "[1, 19, 4, 5]"
      ]
     },
     "execution_count": 188,
     "metadata": {},
     "output_type": "execute_result"
    }
   ],
   "source": [
    "lst"
   ]
  },
  {
   "cell_type": "code",
   "execution_count": 189,
   "id": "56be10e2",
   "metadata": {},
   "outputs": [],
   "source": [
    "det = np.linalg.det(a)"
   ]
  },
  {
   "cell_type": "code",
   "execution_count": 190,
   "id": "2cc9525c",
   "metadata": {},
   "outputs": [
    {
     "name": "stdout",
     "output_type": "stream",
     "text": [
      "-2.0000000000000004\n"
     ]
    }
   ],
   "source": [
    "print(det)"
   ]
  },
  {
   "cell_type": "code",
   "execution_count": 191,
   "id": "fceaab2e",
   "metadata": {},
   "outputs": [],
   "source": [
    "#inverse of a matrix"
   ]
  },
  {
   "cell_type": "code",
   "execution_count": 192,
   "id": "b1ab1d0a",
   "metadata": {},
   "outputs": [],
   "source": [
    "inv = np.linalg.inv(a)"
   ]
  },
  {
   "cell_type": "code",
   "execution_count": 193,
   "id": "51a5dec9",
   "metadata": {},
   "outputs": [
    {
     "name": "stdout",
     "output_type": "stream",
     "text": [
      "[[-2.   1. ]\n",
      " [ 1.5 -0.5]]\n"
     ]
    }
   ],
   "source": [
    "print(inv)"
   ]
  },
  {
   "cell_type": "code",
   "execution_count": 194,
   "id": "03e120da",
   "metadata": {},
   "outputs": [],
   "source": [
    "#diag of a matrix"
   ]
  },
  {
   "cell_type": "code",
   "execution_count": 195,
   "id": "43140a5a",
   "metadata": {},
   "outputs": [],
   "source": [
    "dia = np.diag(a)"
   ]
  },
  {
   "cell_type": "code",
   "execution_count": 196,
   "id": "71281aa2",
   "metadata": {},
   "outputs": [
    {
     "name": "stdout",
     "output_type": "stream",
     "text": [
      "[1 4]\n"
     ]
    }
   ],
   "source": [
    "print(dia)"
   ]
  },
  {
   "cell_type": "code",
   "execution_count": 197,
   "id": "79c4cca5",
   "metadata": {},
   "outputs": [],
   "source": [
    "#diag on a vector returns diagonal matrix (overloaded functio)"
   ]
  },
  {
   "cell_type": "code",
   "execution_count": 198,
   "id": "383ba81f",
   "metadata": {},
   "outputs": [],
   "source": [
    "c = np.diag([1,4])"
   ]
  },
  {
   "cell_type": "code",
   "execution_count": 199,
   "id": "3866c793",
   "metadata": {},
   "outputs": [
    {
     "name": "stdout",
     "output_type": "stream",
     "text": [
      "[[1 0]\n",
      " [0 4]]\n"
     ]
    }
   ],
   "source": [
    "print(c)"
   ]
  },
  {
   "cell_type": "code",
   "execution_count": 200,
   "id": "2a0a471e",
   "metadata": {},
   "outputs": [],
   "source": [
    "#indexing , slicing and boolen indexing"
   ]
  },
  {
   "cell_type": "code",
   "execution_count": 201,
   "id": "b3af3a7c",
   "metadata": {},
   "outputs": [],
   "source": [
    "a = np.array([[1,2,3,4],[5,6,7,8],[9,10,11,12]])"
   ]
  },
  {
   "cell_type": "code",
   "execution_count": 202,
   "id": "ae7c9c56",
   "metadata": {},
   "outputs": [
    {
     "name": "stdout",
     "output_type": "stream",
     "text": [
      "[[ 1  2  3  4]\n",
      " [ 5  6  7  8]\n",
      " [ 9 10 11 12]]\n"
     ]
    }
   ],
   "source": [
    "print(a)"
   ]
  },
  {
   "cell_type": "code",
   "execution_count": 203,
   "id": "c8b64f12",
   "metadata": {},
   "outputs": [],
   "source": [
    "#integer array indexing "
   ]
  },
  {
   "cell_type": "code",
   "execution_count": 204,
   "id": "2daa42f4",
   "metadata": {},
   "outputs": [],
   "source": [
    "b= a[0,1]"
   ]
  },
  {
   "cell_type": "code",
   "execution_count": 205,
   "id": "6e96c6b1",
   "metadata": {},
   "outputs": [
    {
     "name": "stdout",
     "output_type": "stream",
     "text": [
      "2\n"
     ]
    }
   ],
   "source": [
    "print(b)"
   ]
  },
  {
   "cell_type": "code",
   "execution_count": 206,
   "id": "76dd10c5",
   "metadata": {},
   "outputs": [
    {
     "name": "stdout",
     "output_type": "stream",
     "text": [
      "[ 9 10 11 12]\n"
     ]
    }
   ],
   "source": [
    "print(a[2])"
   ]
  },
  {
   "cell_type": "code",
   "execution_count": 207,
   "id": "4c2eace2",
   "metadata": {},
   "outputs": [],
   "source": [
    "#slicing"
   ]
  },
  {
   "cell_type": "code",
   "execution_count": 208,
   "id": "7fd38e40",
   "metadata": {},
   "outputs": [
    {
     "name": "stdout",
     "output_type": "stream",
     "text": [
      "[ 2  6 10]\n"
     ]
    }
   ],
   "source": [
    "print(a[:,1]) #row"
   ]
  },
  {
   "cell_type": "code",
   "execution_count": 209,
   "id": "5cdac050",
   "metadata": {},
   "outputs": [
    {
     "name": "stdout",
     "output_type": "stream",
     "text": [
      "[ 9 10 11 12]\n"
     ]
    }
   ],
   "source": [
    "print(a[2,:]) #column"
   ]
  },
  {
   "cell_type": "code",
   "execution_count": 210,
   "id": "ac9f707e",
   "metadata": {},
   "outputs": [
    {
     "name": "stdout",
     "output_type": "stream",
     "text": [
      "[[3]\n",
      " [7]]\n"
     ]
    }
   ],
   "source": [
    "print(a[0:2,2:3])"
   ]
  },
  {
   "cell_type": "code",
   "execution_count": 211,
   "id": "e4846d5e",
   "metadata": {},
   "outputs": [],
   "source": [
    "#indexing starting from the end"
   ]
  },
  {
   "cell_type": "code",
   "execution_count": 212,
   "id": "06568b20",
   "metadata": {},
   "outputs": [
    {
     "name": "stdout",
     "output_type": "stream",
     "text": [
      "12\n"
     ]
    }
   ],
   "source": [
    "print(a[-1,-1])"
   ]
  },
  {
   "cell_type": "code",
   "execution_count": 213,
   "id": "bb2787e3",
   "metadata": {},
   "outputs": [],
   "source": [
    "#boolean indesing"
   ]
  },
  {
   "cell_type": "code",
   "execution_count": 214,
   "id": "a74ccdc7",
   "metadata": {},
   "outputs": [],
   "source": [
    "j = np.array([[1,2,3,4],[5,6,7,8],[9,10,11,12]])"
   ]
  },
  {
   "cell_type": "code",
   "execution_count": 215,
   "id": "f78a2bc3",
   "metadata": {},
   "outputs": [
    {
     "name": "stdout",
     "output_type": "stream",
     "text": [
      "[[ 1  2  3  4]\n",
      " [ 5  6  7  8]\n",
      " [ 9 10 11 12]]\n"
     ]
    }
   ],
   "source": [
    "print(j)"
   ]
  },
  {
   "cell_type": "code",
   "execution_count": 216,
   "id": "9da49773",
   "metadata": {},
   "outputs": [],
   "source": [
    "bool_indx = j>2"
   ]
  },
  {
   "cell_type": "code",
   "execution_count": 217,
   "id": "4966c53e",
   "metadata": {},
   "outputs": [
    {
     "data": {
      "text/plain": [
       "array([[False, False,  True,  True],\n",
       "       [ True,  True,  True,  True],\n",
       "       [ True,  True,  True,  True]])"
      ]
     },
     "execution_count": 217,
     "metadata": {},
     "output_type": "execute_result"
    }
   ],
   "source": [
    "bool_indx"
   ]
  },
  {
   "cell_type": "code",
   "execution_count": 218,
   "id": "30bf36b0",
   "metadata": {},
   "outputs": [
    {
     "name": "stdout",
     "output_type": "stream",
     "text": [
      "[ 3  4  5  6  7  8  9 10 11 12]\n"
     ]
    }
   ],
   "source": [
    "print(a[bool_indx])"
   ]
  },
  {
   "cell_type": "code",
   "execution_count": 219,
   "id": "f6e20bb2",
   "metadata": {},
   "outputs": [
    {
     "name": "stdout",
     "output_type": "stream",
     "text": [
      "[ 3  4  5  6  7  8  9 10 11 12]\n"
     ]
    }
   ],
   "source": [
    "print(a[a>2])"
   ]
  },
  {
   "cell_type": "code",
   "execution_count": 220,
   "id": "cee2680d",
   "metadata": {},
   "outputs": [],
   "source": [
    "#numpy.where"
   ]
  },
  {
   "cell_type": "code",
   "execution_count": 221,
   "id": "5035539b",
   "metadata": {},
   "outputs": [],
   "source": [
    "u = np.where(a>2,a,'fool')"
   ]
  },
  {
   "cell_type": "code",
   "execution_count": 222,
   "id": "0468dee3",
   "metadata": {},
   "outputs": [
    {
     "name": "stdout",
     "output_type": "stream",
     "text": [
      "[['fool' 'fool' '3' '4']\n",
      " ['5' '6' '7' '8']\n",
      " ['9' '10' '11' '12']]\n"
     ]
    }
   ],
   "source": [
    "print(u)"
   ]
  },
  {
   "cell_type": "code",
   "execution_count": 223,
   "id": "5be1833e",
   "metadata": {},
   "outputs": [],
   "source": [
    "#fancy indexing: access multiple indices at once"
   ]
  },
  {
   "cell_type": "code",
   "execution_count": 224,
   "id": "6e1aee4b",
   "metadata": {},
   "outputs": [],
   "source": [
    "a = np.array([10,19,30,41,50,61])"
   ]
  },
  {
   "cell_type": "code",
   "execution_count": 225,
   "id": "18f2083f",
   "metadata": {},
   "outputs": [],
   "source": [
    "b= a[[1,3,5]] #prints the element in 1,3,5"
   ]
  },
  {
   "cell_type": "code",
   "execution_count": 226,
   "id": "8a43a14b",
   "metadata": {},
   "outputs": [
    {
     "name": "stdout",
     "output_type": "stream",
     "text": [
      "[19 41 61]\n"
     ]
    }
   ],
   "source": [
    "print(b)"
   ]
  },
  {
   "cell_type": "code",
   "execution_count": 229,
   "id": "3dd96bc4",
   "metadata": {},
   "outputs": [],
   "source": [
    "even = np.argwhere(a%2==0).flatten()"
   ]
  },
  {
   "cell_type": "code",
   "execution_count": 230,
   "id": "8c94430e",
   "metadata": {},
   "outputs": [
    {
     "name": "stdout",
     "output_type": "stream",
     "text": [
      "[0 2 4]\n"
     ]
    }
   ],
   "source": [
    "print(even)"
   ]
  },
  {
   "cell_type": "code",
   "execution_count": 231,
   "id": "a0099be2",
   "metadata": {},
   "outputs": [],
   "source": [
    "a_even = a[even]"
   ]
  },
  {
   "cell_type": "code",
   "execution_count": 234,
   "id": "9106fe97",
   "metadata": {},
   "outputs": [
    {
     "name": "stdout",
     "output_type": "stream",
     "text": [
      "[10 30 50]\n"
     ]
    }
   ],
   "source": [
    "print(a_even)"
   ]
  },
  {
   "cell_type": "code",
   "execution_count": 235,
   "id": "861b49c1",
   "metadata": {},
   "outputs": [],
   "source": [
    "#Reshaping :creating the matrix you want "
   ]
  },
  {
   "cell_type": "code",
   "execution_count": 258,
   "id": "318eb9af",
   "metadata": {},
   "outputs": [],
   "source": [
    "a = np.arange(1,7\n",
    "             )"
   ]
  },
  {
   "cell_type": "code",
   "execution_count": 259,
   "id": "fa732eb1",
   "metadata": {},
   "outputs": [
    {
     "name": "stdout",
     "output_type": "stream",
     "text": [
      "[1 2 3 4 5 6]\n"
     ]
    }
   ],
   "source": [
    "print(a)"
   ]
  },
  {
   "cell_type": "code",
   "execution_count": 260,
   "id": "fe8d7fad",
   "metadata": {},
   "outputs": [],
   "source": [
    "b = a.reshape(2,3) #error occurs if shape cannot be used "
   ]
  },
  {
   "cell_type": "code",
   "execution_count": 261,
   "id": "372f3534",
   "metadata": {},
   "outputs": [
    {
     "name": "stdout",
     "output_type": "stream",
     "text": [
      "[[1 2 3]\n",
      " [4 5 6]]\n"
     ]
    }
   ],
   "source": [
    "print(b)"
   ]
  },
  {
   "cell_type": "code",
   "execution_count": 262,
   "id": "6cc41cee",
   "metadata": {},
   "outputs": [],
   "source": [
    "c = a.reshape(3,2) #getting 3 by 2 matrix "
   ]
  },
  {
   "cell_type": "code",
   "execution_count": 263,
   "id": "17c1387d",
   "metadata": {},
   "outputs": [
    {
     "name": "stdout",
     "output_type": "stream",
     "text": [
      "[[1 2]\n",
      " [3 4]\n",
      " [5 6]]\n"
     ]
    }
   ],
   "source": [
    "print(c)"
   ]
  },
  {
   "cell_type": "code",
   "execution_count": 264,
   "id": "df107c1b",
   "metadata": {},
   "outputs": [],
   "source": [
    "#new axis is used to create a new axis in the data \n",
    "#needed when  a model require the data to be shaped in a certain manner "
   ]
  },
  {
   "cell_type": "code",
   "execution_count": 265,
   "id": "9401481e",
   "metadata": {},
   "outputs": [
    {
     "name": "stdout",
     "output_type": "stream",
     "text": [
      "[1 2 3 4 5 6]\n"
     ]
    }
   ],
   "source": [
    "print(a)"
   ]
  },
  {
   "cell_type": "code",
   "execution_count": 266,
   "id": "0f6a40e3",
   "metadata": {},
   "outputs": [
    {
     "name": "stdout",
     "output_type": "stream",
     "text": [
      "(6,)\n"
     ]
    }
   ],
   "source": [
    "print(a.shape)"
   ]
  },
  {
   "cell_type": "code",
   "execution_count": 267,
   "id": "55273ee4",
   "metadata": {},
   "outputs": [],
   "source": [
    "d = a[np.newaxis, :]"
   ]
  },
  {
   "cell_type": "code",
   "execution_count": 268,
   "id": "633362f2",
   "metadata": {},
   "outputs": [
    {
     "name": "stdout",
     "output_type": "stream",
     "text": [
      "[[1 2 3 4 5 6]]\n"
     ]
    }
   ],
   "source": [
    "print(d)"
   ]
  },
  {
   "cell_type": "code",
   "execution_count": 269,
   "id": "30f49906",
   "metadata": {},
   "outputs": [
    {
     "name": "stdout",
     "output_type": "stream",
     "text": [
      "(1, 6)\n"
     ]
    }
   ],
   "source": [
    "print(d.shape)"
   ]
  },
  {
   "cell_type": "code",
   "execution_count": 271,
   "id": "b477b15c",
   "metadata": {},
   "outputs": [],
   "source": [
    "d = a[:, np.newaxis]"
   ]
  },
  {
   "cell_type": "code",
   "execution_count": 272,
   "id": "1bdd2998",
   "metadata": {},
   "outputs": [
    {
     "name": "stdout",
     "output_type": "stream",
     "text": [
      "[[1]\n",
      " [2]\n",
      " [3]\n",
      " [4]\n",
      " [5]\n",
      " [6]]\n"
     ]
    }
   ],
   "source": [
    "print(d)"
   ]
  },
  {
   "cell_type": "code",
   "execution_count": 273,
   "id": "5b0e0601",
   "metadata": {},
   "outputs": [
    {
     "name": "stdout",
     "output_type": "stream",
     "text": [
      "(6, 1)\n"
     ]
    }
   ],
   "source": [
    "print(d.shape)"
   ]
  },
  {
   "cell_type": "code",
   "execution_count": null,
   "id": "e93470ab",
   "metadata": {},
   "outputs": [],
   "source": [
    "#conctenation  :"
   ]
  },
  {
   "cell_type": "code",
   "execution_count": 288,
   "id": "667a53b7",
   "metadata": {},
   "outputs": [],
   "source": [
    "a = np.array([[1,2],[3,4]])"
   ]
  },
  {
   "cell_type": "code",
   "execution_count": 289,
   "id": "f7750752",
   "metadata": {},
   "outputs": [],
   "source": [
    "b = np.array([[5,6]])"
   ]
  },
  {
   "cell_type": "code",
   "execution_count": 290,
   "id": "23490fbf",
   "metadata": {},
   "outputs": [
    {
     "name": "stdout",
     "output_type": "stream",
     "text": [
      "[[1 2]\n",
      " [3 4]]\n",
      "[[5 6]]\n"
     ]
    }
   ],
   "source": [
    "print(a)\n",
    "print(b)"
   ]
  },
  {
   "cell_type": "code",
   "execution_count": 291,
   "id": "6fd21d19",
   "metadata": {},
   "outputs": [],
   "source": [
    "#combine a and b"
   ]
  },
  {
   "cell_type": "code",
   "execution_count": 292,
   "id": "767d8958",
   "metadata": {},
   "outputs": [],
   "source": [
    "c = np.concatenate((a,b), axis=None)"
   ]
  },
  {
   "cell_type": "code",
   "execution_count": 293,
   "id": "042b5547",
   "metadata": {},
   "outputs": [
    {
     "name": "stdout",
     "output_type": "stream",
     "text": [
      "[1 2 3 4 5 6]\n"
     ]
    }
   ],
   "source": [
    "print(c)"
   ]
  },
  {
   "cell_type": "code",
   "execution_count": 294,
   "id": "7fb66f45",
   "metadata": {},
   "outputs": [],
   "source": [
    "c = np.concatenate((a,b))"
   ]
  },
  {
   "cell_type": "code",
   "execution_count": 296,
   "id": "56c76150",
   "metadata": {},
   "outputs": [
    {
     "name": "stdout",
     "output_type": "stream",
     "text": [
      "[[1 2]\n",
      " [3 4]\n",
      " [5 6]]\n"
     ]
    }
   ],
   "source": [
    "print(c)"
   ]
  },
  {
   "cell_type": "code",
   "execution_count": 298,
   "id": "e8b43177",
   "metadata": {},
   "outputs": [],
   "source": [
    "c = np.concatenate((a,b.T), axis=1)"
   ]
  },
  {
   "cell_type": "code",
   "execution_count": 299,
   "id": "acc1d30c",
   "metadata": {},
   "outputs": [
    {
     "name": "stdout",
     "output_type": "stream",
     "text": [
      "[[1 2 5]\n",
      " [3 4 6]]\n"
     ]
    }
   ],
   "source": [
    "print(c)"
   ]
  },
  {
   "cell_type": "code",
   "execution_count": null,
   "id": "9dbd2e33",
   "metadata": {},
   "outputs": [],
   "source": [
    "#hstack: stack arrays in sequence horizontally (column wise). needs a tuple"
   ]
  },
  {
   "cell_type": "code",
   "execution_count": 300,
   "id": "5e632ba3",
   "metadata": {},
   "outputs": [],
   "source": [
    "a = np.array([1,2,3,4])"
   ]
  },
  {
   "cell_type": "code",
   "execution_count": 301,
   "id": "f9ed53a2",
   "metadata": {},
   "outputs": [],
   "source": [
    "b = np.array([5,6,7,8])"
   ]
  },
  {
   "cell_type": "code",
   "execution_count": 302,
   "id": "b8a06eb4",
   "metadata": {},
   "outputs": [],
   "source": [
    "c = np.hstack((a,b))"
   ]
  },
  {
   "cell_type": "code",
   "execution_count": 304,
   "id": "e283e0c4",
   "metadata": {},
   "outputs": [
    {
     "name": "stdout",
     "output_type": "stream",
     "text": [
      "[1 2 3 4 5 6 7 8]\n"
     ]
    }
   ],
   "source": [
    "print(c)"
   ]
  },
  {
   "cell_type": "code",
   "execution_count": 310,
   "id": "bb561f5d",
   "metadata": {},
   "outputs": [],
   "source": [
    "a = np.array([[1,2],[3,4]])"
   ]
  },
  {
   "cell_type": "code",
   "execution_count": 311,
   "id": "e88d061c",
   "metadata": {},
   "outputs": [],
   "source": [
    "b = np.array([[5,6],[7,8]])"
   ]
  },
  {
   "cell_type": "code",
   "execution_count": 312,
   "id": "4b35eb9a",
   "metadata": {},
   "outputs": [],
   "source": [
    "c = np.hstack((a,b))"
   ]
  },
  {
   "cell_type": "code",
   "execution_count": 313,
   "id": "93680a49",
   "metadata": {},
   "outputs": [
    {
     "name": "stdout",
     "output_type": "stream",
     "text": [
      "[[1 2 5 6]\n",
      " [3 4 7 8]]\n"
     ]
    }
   ],
   "source": [
    "print(c)"
   ]
  },
  {
   "cell_type": "code",
   "execution_count": null,
   "id": "70403763",
   "metadata": {},
   "outputs": [],
   "source": [
    "#vstack stack arrays in seqence vertically (row wise). neeeds a tuple"
   ]
  },
  {
   "cell_type": "code",
   "execution_count": 314,
   "id": "12bb3925",
   "metadata": {},
   "outputs": [],
   "source": [
    "a = np.array([1,2,3,4])"
   ]
  },
  {
   "cell_type": "code",
   "execution_count": 315,
   "id": "d70f052f",
   "metadata": {},
   "outputs": [],
   "source": [
    "b = np.array([5,6,7,8])"
   ]
  },
  {
   "cell_type": "code",
   "execution_count": 317,
   "id": "3db075bd",
   "metadata": {},
   "outputs": [],
   "source": [
    "c = np.vstack((a,b))"
   ]
  },
  {
   "cell_type": "code",
   "execution_count": 318,
   "id": "33565c88",
   "metadata": {},
   "outputs": [
    {
     "name": "stdout",
     "output_type": "stream",
     "text": [
      "[[1 2 3 4]\n",
      " [5 6 7 8]]\n"
     ]
    }
   ],
   "source": [
    "print(c)"
   ]
  },
  {
   "cell_type": "code",
   "execution_count": 319,
   "id": "fe407741",
   "metadata": {},
   "outputs": [],
   "source": [
    "a = np.array([[1,2],[3,4]])"
   ]
  },
  {
   "cell_type": "code",
   "execution_count": 320,
   "id": "7492fe8a",
   "metadata": {},
   "outputs": [],
   "source": [
    "b = np.array([[5,6],[7,8]])"
   ]
  },
  {
   "cell_type": "code",
   "execution_count": 321,
   "id": "010ac7a1",
   "metadata": {},
   "outputs": [],
   "source": [
    "c = np.vstack((a,b))"
   ]
  },
  {
   "cell_type": "code",
   "execution_count": 322,
   "id": "2945b852",
   "metadata": {},
   "outputs": [
    {
     "name": "stdout",
     "output_type": "stream",
     "text": [
      "[[1 2]\n",
      " [3 4]\n",
      " [5 6]\n",
      " [7 8]]\n"
     ]
    }
   ],
   "source": [
    "print(c)"
   ]
  },
  {
   "cell_type": "code",
   "execution_count": null,
   "id": "6a27bd79",
   "metadata": {},
   "outputs": [],
   "source": [
    "#broadcasting: the ability of NumPy to treat arrays of different shapes during arithmetic operations."
   ]
  },
  {
   "cell_type": "code",
   "execution_count": 326,
   "id": "c453d056",
   "metadata": {},
   "outputs": [],
   "source": [
    "a = np.array([[1,2,3],[4,5,6],[7,8,9],[10,11,12]])"
   ]
  },
  {
   "cell_type": "code",
   "execution_count": 327,
   "id": "9f6d6a8f",
   "metadata": {},
   "outputs": [],
   "source": [
    "b = np.array([1,0,1])"
   ]
  },
  {
   "cell_type": "code",
   "execution_count": 328,
   "id": "97673cea",
   "metadata": {},
   "outputs": [
    {
     "name": "stdout",
     "output_type": "stream",
     "text": [
      "[[ 2  2  4]\n",
      " [ 5  5  7]\n",
      " [ 8  8 10]\n",
      " [11 11 13]]\n"
     ]
    }
   ],
   "source": [
    "print(a+b) #1+1= 2, 0+2=2,3+1=4"
   ]
  },
  {
   "cell_type": "code",
   "execution_count": null,
   "id": "25bef6e5",
   "metadata": {},
   "outputs": [],
   "source": [
    "#functions and axis :  "
   ]
  },
  {
   "cell_type": "code",
   "execution_count": 330,
   "id": "cca40d06",
   "metadata": {},
   "outputs": [],
   "source": [
    "a = np.array([[7,8,9,10,11,12,13], [17,18,19,20,21,22,23]])"
   ]
  },
  {
   "cell_type": "code",
   "execution_count": 331,
   "id": "760cf4ce",
   "metadata": {},
   "outputs": [
    {
     "name": "stdout",
     "output_type": "stream",
     "text": [
      "210\n"
     ]
    }
   ],
   "source": [
    "print(a.sum())"
   ]
  },
  {
   "cell_type": "code",
   "execution_count": 332,
   "id": "66b6d969",
   "metadata": {},
   "outputs": [
    {
     "name": "stdout",
     "output_type": "stream",
     "text": [
      "210\n"
     ]
    }
   ],
   "source": [
    "print(a.sum(axis=None))"
   ]
  },
  {
   "cell_type": "code",
   "execution_count": 333,
   "id": "5449ad7b",
   "metadata": {},
   "outputs": [
    {
     "name": "stdout",
     "output_type": "stream",
     "text": [
      "[24 26 28 30 32 34 36]\n"
     ]
    }
   ],
   "source": [
    "print(a.sum(axis = 0))"
   ]
  },
  {
   "cell_type": "code",
   "execution_count": 334,
   "id": "fd88393a",
   "metadata": {},
   "outputs": [
    {
     "name": "stdout",
     "output_type": "stream",
     "text": [
      "[ 70 140]\n"
     ]
    }
   ],
   "source": [
    "print(a.sum(axis = 1))"
   ]
  },
  {
   "cell_type": "code",
   "execution_count": null,
   "id": "051bf429",
   "metadata": {},
   "outputs": [],
   "source": [
    "#datatypes:  Yes, a numpy array can store different data String, Integer, Complex, Float, Boolean"
   ]
  },
  {
   "cell_type": "code",
   "execution_count": 336,
   "id": "ff9521b9",
   "metadata": {},
   "outputs": [],
   "source": [
    "x = np.array([1,2])"
   ]
  },
  {
   "cell_type": "code",
   "execution_count": 337,
   "id": "ace79fe6",
   "metadata": {},
   "outputs": [
    {
     "name": "stdout",
     "output_type": "stream",
     "text": [
      "int32\n"
     ]
    }
   ],
   "source": [
    "print(x.dtype)"
   ]
  },
  {
   "cell_type": "code",
   "execution_count": 338,
   "id": "a465d3d6",
   "metadata": {},
   "outputs": [],
   "source": [
    "x = np.array([1.0,2.0])"
   ]
  },
  {
   "cell_type": "code",
   "execution_count": 339,
   "id": "a3d7666d",
   "metadata": {},
   "outputs": [
    {
     "name": "stdout",
     "output_type": "stream",
     "text": [
      "float64\n"
     ]
    }
   ],
   "source": [
    "print(x.dtype)"
   ]
  },
  {
   "cell_type": "code",
   "execution_count": null,
   "id": "a9a094cc",
   "metadata": {},
   "outputs": [],
   "source": [
    "#force a particular daTATYPE HOW MANY BTS (HOW PRECISE)"
   ]
  },
  {
   "cell_type": "code",
   "execution_count": 340,
   "id": "d674ecbf",
   "metadata": {},
   "outputs": [],
   "source": [
    "x = np.array([1,2], dtype=np.int64) #8 bytes"
   ]
  },
  {
   "cell_type": "code",
   "execution_count": 341,
   "id": "3ec20ef5",
   "metadata": {},
   "outputs": [
    {
     "name": "stdout",
     "output_type": "stream",
     "text": [
      "int64\n"
     ]
    }
   ],
   "source": [
    "print(x.dtype)"
   ]
  },
  {
   "cell_type": "code",
   "execution_count": 346,
   "id": "740829c9",
   "metadata": {},
   "outputs": [],
   "source": [
    "x = np.array([1,2], dtype=np.float32) #8 bytes"
   ]
  },
  {
   "cell_type": "code",
   "execution_count": 347,
   "id": "35556acc",
   "metadata": {},
   "outputs": [
    {
     "name": "stdout",
     "output_type": "stream",
     "text": [
      "float32\n"
     ]
    }
   ],
   "source": [
    "print(x.dtype)"
   ]
  },
  {
   "cell_type": "code",
   "execution_count": null,
   "id": "c927f7f8",
   "metadata": {},
   "outputs": [],
   "source": [
    "#copying : Return an array copy of the given object."
   ]
  },
  {
   "cell_type": "code",
   "execution_count": 349,
   "id": "c8c6b92f",
   "metadata": {},
   "outputs": [],
   "source": [
    "x = np.array([1,2,3])"
   ]
  },
  {
   "cell_type": "code",
   "execution_count": 350,
   "id": "71d9528b",
   "metadata": {},
   "outputs": [],
   "source": [
    "y =x #only copies reference"
   ]
  },
  {
   "cell_type": "code",
   "execution_count": 351,
   "id": "0b91bce5",
   "metadata": {},
   "outputs": [
    {
     "data": {
      "text/plain": [
       "1"
      ]
     },
     "execution_count": 351,
     "metadata": {},
     "output_type": "execute_result"
    }
   ],
   "source": [
    "y[0]"
   ]
  },
  {
   "cell_type": "code",
   "execution_count": 352,
   "id": "ce109ec1",
   "metadata": {},
   "outputs": [
    {
     "data": {
      "text/plain": [
       "array([1, 2, 3])"
      ]
     },
     "execution_count": 352,
     "metadata": {},
     "output_type": "execute_result"
    }
   ],
   "source": [
    "x"
   ]
  },
  {
   "cell_type": "code",
   "execution_count": 353,
   "id": "e272517a",
   "metadata": {},
   "outputs": [
    {
     "data": {
      "text/plain": [
       "array([1, 2, 3])"
      ]
     },
     "execution_count": 353,
     "metadata": {},
     "output_type": "execute_result"
    }
   ],
   "source": [
    "y"
   ]
  },
  {
   "cell_type": "code",
   "execution_count": 354,
   "id": "0cafd496",
   "metadata": {},
   "outputs": [],
   "source": [
    "a = np.array([1,2,3])"
   ]
  },
  {
   "cell_type": "code",
   "execution_count": 355,
   "id": "6392e51b",
   "metadata": {},
   "outputs": [],
   "source": [
    "b = a.copy()  #actual copy"
   ]
  },
  {
   "cell_type": "code",
   "execution_count": 356,
   "id": "e7e8ae6f",
   "metadata": {},
   "outputs": [
    {
     "data": {
      "text/plain": [
       "1"
      ]
     },
     "execution_count": 356,
     "metadata": {},
     "output_type": "execute_result"
    }
   ],
   "source": [
    "b[0]"
   ]
  },
  {
   "cell_type": "code",
   "execution_count": 357,
   "id": "19781c5e",
   "metadata": {},
   "outputs": [
    {
     "name": "stdout",
     "output_type": "stream",
     "text": [
      "[1 2 3]\n"
     ]
    }
   ],
   "source": [
    "print(a)"
   ]
  },
  {
   "cell_type": "code",
   "execution_count": 358,
   "id": "5ead2df7",
   "metadata": {},
   "outputs": [
    {
     "name": "stdout",
     "output_type": "stream",
     "text": [
      "[1 2 3]\n"
     ]
    }
   ],
   "source": [
    "print(b)"
   ]
  },
  {
   "cell_type": "code",
   "execution_count": null,
   "id": "bf3170fe",
   "metadata": {},
   "outputs": [],
   "source": [
    "#generating arrays"
   ]
  },
  {
   "cell_type": "code",
   "execution_count": null,
   "id": "898f8558",
   "metadata": {},
   "outputs": [],
   "source": [
    "#ones"
   ]
  },
  {
   "cell_type": "code",
   "execution_count": 359,
   "id": "621614f0",
   "metadata": {},
   "outputs": [],
   "source": [
    "a = np.ones((2,3))"
   ]
  },
  {
   "cell_type": "code",
   "execution_count": 361,
   "id": "54d83051",
   "metadata": {},
   "outputs": [
    {
     "name": "stdout",
     "output_type": "stream",
     "text": [
      "[[1. 1. 1.]\n",
      " [1. 1. 1.]]\n"
     ]
    }
   ],
   "source": [
    "print(a)"
   ]
  },
  {
   "cell_type": "code",
   "execution_count": 362,
   "id": "782663e0",
   "metadata": {},
   "outputs": [],
   "source": [
    "a = np.zeros((2,3))"
   ]
  },
  {
   "cell_type": "code",
   "execution_count": 363,
   "id": "ae621fb7",
   "metadata": {},
   "outputs": [
    {
     "name": "stdout",
     "output_type": "stream",
     "text": [
      "[[0. 0. 0.]\n",
      " [0. 0. 0.]]\n"
     ]
    }
   ],
   "source": [
    "print(a)"
   ]
  },
  {
   "cell_type": "code",
   "execution_count": null,
   "id": "40f273ae",
   "metadata": {},
   "outputs": [],
   "source": [
    "#specific values"
   ]
  },
  {
   "cell_type": "code",
   "execution_count": 366,
   "id": "db13db98",
   "metadata": {},
   "outputs": [],
   "source": [
    "c = np.full((3,3),5)"
   ]
  },
  {
   "cell_type": "code",
   "execution_count": 378,
   "id": "63c3d1f8",
   "metadata": {},
   "outputs": [
    {
     "name": "stdout",
     "output_type": "stream",
     "text": [
      "[[5 5 5]\n",
      " [5 5 5]\n",
      " [5 5 5]]\n"
     ]
    }
   ],
   "source": [
    "print(c)"
   ]
  },
  {
   "cell_type": "code",
   "execution_count": 379,
   "id": "6cd19649",
   "metadata": {},
   "outputs": [],
   "source": [
    "#identity"
   ]
  },
  {
   "cell_type": "code",
   "execution_count": 387,
   "id": "66bebe50",
   "metadata": {},
   "outputs": [],
   "source": [
    "d = np.eye(4) #4*4 matrix [1,0,0,0]"
   ]
  },
  {
   "cell_type": "code",
   "execution_count": 388,
   "id": "a02d84ec",
   "metadata": {},
   "outputs": [
    {
     "name": "stdout",
     "output_type": "stream",
     "text": [
      "[[1. 0. 0. 0.]\n",
      " [0. 1. 0. 0.]\n",
      " [0. 0. 1. 0.]\n",
      " [0. 0. 0. 1.]]\n"
     ]
    }
   ],
   "source": [
    "print(d)"
   ]
  },
  {
   "cell_type": "code",
   "execution_count": 382,
   "id": "2e2a3657",
   "metadata": {},
   "outputs": [],
   "source": [
    "#arrange"
   ]
  },
  {
   "cell_type": "code",
   "execution_count": 383,
   "id": "883c9482",
   "metadata": {},
   "outputs": [],
   "source": [
    "e = np.arange(10)"
   ]
  },
  {
   "cell_type": "code",
   "execution_count": 384,
   "id": "4843935b",
   "metadata": {},
   "outputs": [
    {
     "name": "stdout",
     "output_type": "stream",
     "text": [
      "[0 1 2 3 4 5 6 7 8 9]\n"
     ]
    }
   ],
   "source": [
    "print(e)"
   ]
  },
  {
   "cell_type": "code",
   "execution_count": null,
   "id": "a6911e1d",
   "metadata": {},
   "outputs": [],
   "source": [
    "#linspace  :  It is used to create an evenly spaced sequence in a specified interval."
   ]
  },
  {
   "cell_type": "code",
   "execution_count": 389,
   "id": "d23f7c91",
   "metadata": {},
   "outputs": [],
   "source": [
    "f = np.linspace(0,10,5)"
   ]
  },
  {
   "cell_type": "code",
   "execution_count": 390,
   "id": "e943b798",
   "metadata": {},
   "outputs": [
    {
     "name": "stdout",
     "output_type": "stream",
     "text": [
      "[ 0.   2.5  5.   7.5 10. ]\n"
     ]
    }
   ],
   "source": [
    "print(f)"
   ]
  },
  {
   "cell_type": "code",
   "execution_count": null,
   "id": "42c7ebf7",
   "metadata": {},
   "outputs": [],
   "source": [
    "#random numbers"
   ]
  },
  {
   "cell_type": "code",
   "execution_count": 392,
   "id": "8ddc96c7",
   "metadata": {},
   "outputs": [],
   "source": [
    "a = np.random.random((3,2)) #uniform 0-1 distribution  needs tuple "
   ]
  },
  {
   "cell_type": "code",
   "execution_count": 393,
   "id": "423dba94",
   "metadata": {},
   "outputs": [
    {
     "name": "stdout",
     "output_type": "stream",
     "text": [
      "[[0.24250841 0.02816658]\n",
      " [0.22363561 0.41247183]\n",
      " [0.05702312 0.14475645]]\n"
     ]
    }
   ],
   "source": [
    "print(a)"
   ]
  },
  {
   "cell_type": "code",
   "execution_count": 395,
   "id": "95bd63a0",
   "metadata": {},
   "outputs": [],
   "source": [
    "a = np.random.randn(3,2)  #normal/Gussian distribution, mean 0 and no tuple"
   ]
  },
  {
   "cell_type": "code",
   "execution_count": 396,
   "id": "1e024e34",
   "metadata": {},
   "outputs": [
    {
     "data": {
      "text/plain": [
       "array([[-1.34725753,  0.46898553],\n",
       "       [ 0.55499728, -0.12186293],\n",
       "       [ 1.38065866,  1.63143138]])"
      ]
     },
     "execution_count": 396,
     "metadata": {},
     "output_type": "execute_result"
    }
   ],
   "source": [
    "a"
   ]
  },
  {
   "cell_type": "code",
   "execution_count": 401,
   "id": "4d206e8a",
   "metadata": {},
   "outputs": [],
   "source": [
    "c = np.random.random(1000)"
   ]
  },
  {
   "cell_type": "code",
   "execution_count": 402,
   "id": "0cdb7851",
   "metadata": {},
   "outputs": [
    {
     "data": {
      "text/plain": [
       "array([1.03388003e-02, 6.41927964e-01, 9.86838073e-01, 6.72358866e-01,\n",
       "       6.41481514e-01, 2.53098283e-01, 3.66057279e-01, 5.74893339e-01,\n",
       "       5.08682258e-01, 8.83905954e-01, 8.66731048e-01, 8.13226498e-01,\n",
       "       9.57168993e-01, 8.03433333e-01, 6.41782976e-01, 7.91567294e-01,\n",
       "       7.74010964e-01, 4.07955254e-01, 8.98578332e-01, 7.32400432e-01,\n",
       "       2.21037686e-01, 5.38395308e-01, 9.97699827e-01, 3.26378517e-01,\n",
       "       7.04755267e-01, 5.26906003e-01, 4.20050516e-01, 6.99725508e-01,\n",
       "       9.03122526e-01, 8.73649956e-01, 5.86382056e-01, 8.78506553e-01,\n",
       "       8.97157573e-01, 7.05266114e-01, 5.81867870e-01, 7.12587006e-01,\n",
       "       5.68877140e-01, 7.26022018e-01, 3.29294872e-01, 9.45695445e-01,\n",
       "       5.21692415e-01, 7.41621199e-01, 6.72253751e-02, 6.38821634e-02,\n",
       "       5.28186183e-01, 1.55995964e-01, 1.91945379e-01, 9.07939612e-01,\n",
       "       6.48479435e-01, 4.16068771e-01, 1.94868423e-01, 7.75471062e-01,\n",
       "       3.36775307e-01, 1.07267330e-01, 2.75209306e-01, 2.65085351e-01,\n",
       "       3.23437629e-01, 3.84686135e-02, 4.46038374e-01, 2.47690078e-01,\n",
       "       6.63987800e-01, 2.69127604e-01, 1.57280660e-01, 3.20597039e-02,\n",
       "       9.09948274e-01, 9.41479292e-01, 1.44935217e-01, 9.10327677e-01,\n",
       "       3.13976839e-01, 8.35769470e-01, 4.41305424e-01, 5.32043711e-01,\n",
       "       9.75057698e-01, 2.51408111e-01, 6.22549802e-01, 3.12966046e-01,\n",
       "       2.55823742e-03, 7.42983959e-01, 2.08910273e-01, 9.46774750e-01,\n",
       "       1.59791812e-01, 7.86464087e-01, 4.74739172e-01, 6.43189119e-01,\n",
       "       6.37808150e-01, 2.19097261e-02, 1.84203345e-01, 2.04713379e-01,\n",
       "       4.69018901e-01, 1.82844987e-01, 7.75836080e-01, 8.32761460e-01,\n",
       "       8.95348516e-01, 4.80131870e-01, 3.02536552e-01, 2.56697947e-01,\n",
       "       2.18199613e-03, 7.20872915e-02, 7.43513687e-01, 1.65333995e-01,\n",
       "       9.99424873e-02, 3.86453530e-01, 5.23142844e-01, 1.71747977e-01,\n",
       "       8.33676000e-02, 2.32176190e-01, 4.70226635e-01, 9.75623367e-01,\n",
       "       8.95122433e-01, 5.12747101e-01, 3.50776719e-01, 1.74198657e-01,\n",
       "       3.60646519e-01, 1.80728238e-01, 5.85714111e-01, 2.79125111e-01,\n",
       "       2.42627035e-01, 5.19075223e-01, 4.58564823e-01, 3.23166122e-01,\n",
       "       2.48328796e-01, 8.05438066e-01, 3.62782693e-01, 2.24965672e-02,\n",
       "       8.52044867e-01, 9.46766982e-02, 8.91429274e-01, 8.11850031e-01,\n",
       "       4.29412060e-01, 7.75778900e-01, 3.54610591e-01, 6.10293622e-01,\n",
       "       5.20282752e-01, 2.78328886e-01, 7.78319127e-01, 8.36867105e-01,\n",
       "       3.99242432e-01, 4.10462687e-01, 3.14254851e-04, 3.53730426e-01,\n",
       "       2.22429411e-01, 6.41115848e-01, 7.80276884e-01, 4.58537678e-01,\n",
       "       7.11512125e-02, 6.57077711e-01, 1.99788626e-01, 1.28351723e-01,\n",
       "       5.35079386e-01, 7.64325189e-01, 4.48410846e-01, 9.48839785e-04,\n",
       "       1.61825418e-01, 7.02665540e-01, 7.80698022e-01, 8.54652443e-01,\n",
       "       9.32731704e-01, 3.33716624e-01, 3.21626175e-01, 1.82387120e-01,\n",
       "       7.66045728e-01, 9.68635045e-01, 1.70265777e-01, 5.46967694e-01,\n",
       "       7.61585397e-01, 9.79727526e-01, 4.72305783e-01, 3.39813378e-01,\n",
       "       1.26141373e-01, 1.96705321e-01, 9.32981352e-01, 9.67514042e-01,\n",
       "       4.03174688e-01, 7.48655424e-01, 6.83182480e-01, 2.92022190e-01,\n",
       "       2.36699297e-01, 9.83956203e-01, 3.37812187e-01, 4.27338779e-01,\n",
       "       5.97373412e-01, 6.40993862e-01, 3.75612792e-01, 8.18820591e-01,\n",
       "       7.20334618e-01, 7.15516456e-01, 7.46532918e-01, 8.20242324e-01,\n",
       "       5.26436098e-01, 9.15678972e-02, 5.49968255e-02, 4.25402092e-01,\n",
       "       6.21562647e-01, 7.21529626e-01, 9.82259290e-01, 3.00609003e-01,\n",
       "       6.98290968e-01, 8.97342023e-01, 5.65948759e-03, 4.93299199e-02,\n",
       "       2.78025282e-01, 6.25412969e-01, 8.95136116e-02, 7.64798023e-01,\n",
       "       4.02779265e-01, 5.15965314e-01, 7.14225977e-01, 5.48886907e-01,\n",
       "       8.35034579e-01, 2.03073395e-01, 5.77570372e-01, 3.34417572e-01,\n",
       "       2.42201576e-01, 5.72507551e-01, 8.35663903e-01, 1.19689939e-01,\n",
       "       2.26749832e-01, 3.36202490e-01, 3.12447729e-01, 3.71439462e-01,\n",
       "       3.09608377e-01, 9.19009959e-01, 6.79684791e-01, 4.69983333e-01,\n",
       "       3.75249089e-01, 6.83231354e-01, 7.51573213e-01, 9.77118416e-01,\n",
       "       8.48896679e-01, 1.47599720e-01, 4.93644692e-01, 1.64806235e-01,\n",
       "       5.84626698e-01, 9.47562048e-01, 5.34976354e-01, 2.27424482e-01,\n",
       "       3.41652638e-01, 5.29074836e-02, 6.25973256e-01, 8.76451007e-01,\n",
       "       5.42624145e-01, 5.27362849e-01, 9.95400425e-01, 7.82366636e-01,\n",
       "       1.77580009e-01, 2.90455049e-01, 1.62821803e-01, 2.29958485e-01,\n",
       "       9.96124082e-01, 5.81280653e-01, 2.10027121e-01, 8.03810764e-01,\n",
       "       6.51081938e-01, 6.45050523e-01, 2.85860016e-03, 3.72125521e-01,\n",
       "       9.86815629e-01, 8.75878601e-01, 9.06082077e-01, 4.80445778e-01,\n",
       "       6.76875226e-01, 2.94676174e-01, 2.63406819e-01, 3.39994708e-01,\n",
       "       3.55644237e-01, 2.52729921e-01, 1.97721660e-01, 2.01006383e-01,\n",
       "       7.11809865e-01, 7.97143119e-01, 5.23798072e-01, 2.01735567e-01,\n",
       "       2.52373076e-03, 4.98773206e-01, 5.18869373e-01, 6.96188937e-01,\n",
       "       3.38561539e-02, 8.14054669e-01, 8.18343331e-01, 3.42033636e-01,\n",
       "       3.05620323e-01, 4.41411178e-01, 1.30680019e-01, 8.10518577e-01,\n",
       "       3.03907444e-01, 5.03631445e-01, 4.99099063e-01, 7.39294468e-01,\n",
       "       1.37939230e-01, 1.06537506e-01, 2.61757422e-02, 7.49317356e-01,\n",
       "       7.23550974e-01, 9.91085716e-01, 2.92731093e-01, 3.52451182e-01,\n",
       "       3.90259405e-01, 2.63893056e-01, 3.66533106e-01, 7.41670757e-01,\n",
       "       9.60112524e-01, 4.32219831e-01, 6.34497350e-01, 9.96850127e-01,\n",
       "       4.92998457e-01, 1.78858802e-01, 8.56409537e-01, 6.76598230e-01,\n",
       "       6.07023570e-01, 1.08956993e-02, 6.57480640e-02, 3.57855438e-01,\n",
       "       4.72266432e-02, 8.36267574e-01, 7.97918736e-01, 8.70752445e-01,\n",
       "       8.96873207e-01, 8.66828136e-01, 9.02932749e-01, 3.42443394e-01,\n",
       "       9.20168583e-01, 6.55448805e-01, 1.42462870e-01, 4.44351022e-01,\n",
       "       7.26749775e-01, 3.93704641e-01, 7.19779920e-01, 8.02415489e-01,\n",
       "       6.69464443e-01, 2.90177343e-02, 8.53481341e-01, 7.41127220e-01,\n",
       "       1.85761310e-01, 2.86680077e-01, 9.61405184e-01, 7.94403253e-01,\n",
       "       9.25700616e-01, 6.75379855e-01, 1.00356117e-01, 6.49659523e-01,\n",
       "       4.31719479e-01, 3.55579232e-02, 9.30813656e-01, 3.87638825e-01,\n",
       "       5.56343649e-02, 3.78476213e-01, 8.93328734e-01, 8.57333754e-01,\n",
       "       2.62242739e-02, 4.55035209e-01, 6.54014727e-01, 5.63807201e-01,\n",
       "       1.70436160e-01, 9.87839257e-01, 4.70343899e-01, 2.73618336e-01,\n",
       "       6.30916693e-01, 7.13493292e-01, 8.46175232e-02, 3.46511602e-01,\n",
       "       2.89220490e-01, 8.96384676e-01, 5.70255195e-03, 1.87492100e-01,\n",
       "       9.74247795e-01, 3.52928537e-01, 7.66544035e-01, 3.65993888e-01,\n",
       "       9.16303830e-01, 6.71679222e-01, 5.02885907e-01, 3.77414829e-01,\n",
       "       3.05663984e-01, 7.99051587e-01, 9.34247839e-01, 5.75534063e-02,\n",
       "       8.26845857e-01, 5.39230804e-01, 9.56011685e-01, 8.76291416e-01,\n",
       "       4.07134053e-01, 1.13477283e-01, 8.58479317e-01, 7.16974546e-01,\n",
       "       6.63032227e-01, 1.08348397e-01, 7.31861869e-01, 2.85699910e-01,\n",
       "       6.97635702e-01, 9.24574479e-01, 8.46219910e-01, 8.17997272e-01,\n",
       "       9.16768327e-01, 8.29175893e-02, 2.69855269e-01, 9.80689908e-01,\n",
       "       4.13790537e-01, 7.59943850e-01, 9.71559509e-01, 2.74994184e-01,\n",
       "       2.06920220e-01, 4.10684897e-01, 1.11549643e-01, 3.43238587e-01,\n",
       "       6.83255200e-01, 9.76051774e-01, 9.48979970e-01, 1.43762990e-01,\n",
       "       6.36120627e-01, 6.98144644e-01, 5.62472192e-01, 3.86497316e-01,\n",
       "       3.95463601e-01, 5.14703931e-01, 6.36838186e-01, 7.83568027e-01,\n",
       "       4.78811778e-01, 7.31234906e-02, 3.79088725e-01, 8.36942153e-01,\n",
       "       6.37568643e-01, 6.15847952e-01, 4.77994328e-01, 7.37795297e-01,\n",
       "       9.72470383e-02, 7.99964766e-01, 7.32845993e-01, 8.73285743e-01,\n",
       "       3.59382203e-01, 5.83407793e-01, 7.76095549e-01, 8.06542427e-01,\n",
       "       8.14126561e-01, 3.28211921e-01, 7.63105679e-01, 5.05849846e-02,\n",
       "       9.49436869e-01, 7.53810612e-01, 5.14443876e-01, 9.85357579e-02,\n",
       "       3.40696702e-01, 6.61805225e-02, 9.40012782e-01, 5.64525420e-01,\n",
       "       1.10267845e-02, 6.13421475e-01, 2.59196581e-01, 7.63194851e-01,\n",
       "       9.69158595e-01, 8.40287102e-01, 6.70879516e-02, 4.11233112e-01,\n",
       "       2.39784522e-01, 2.71798211e-01, 9.14776422e-02, 2.73086106e-01,\n",
       "       1.51590821e-01, 9.72312424e-01, 8.20104040e-01, 5.73566785e-01,\n",
       "       6.82165734e-01, 3.45623014e-01, 7.40379901e-01, 7.90455009e-02,\n",
       "       4.20080639e-01, 7.67608109e-03, 1.84845377e-01, 8.73591547e-01,\n",
       "       9.51123370e-01, 6.88522100e-01, 8.50143848e-01, 5.15815930e-02,\n",
       "       2.28412275e-01, 4.29725888e-01, 8.34432760e-01, 6.01186020e-02,\n",
       "       7.96267251e-01, 6.32726063e-01, 8.69531314e-01, 7.80013557e-01,\n",
       "       2.33214322e-01, 1.03404977e-01, 2.78309477e-01, 9.97034287e-01,\n",
       "       5.45649400e-01, 1.27881421e-01, 5.95465460e-02, 8.24583088e-01,\n",
       "       9.38553021e-01, 9.53474238e-01, 2.47396662e-01, 1.21962403e-01,\n",
       "       5.14267652e-01, 9.99265757e-02, 4.53528922e-01, 1.72527292e-01,\n",
       "       7.00624657e-01, 9.69517264e-01, 9.80270552e-01, 8.36523549e-01,\n",
       "       2.29246030e-01, 3.24094607e-01, 7.19883161e-01, 1.50833127e-02,\n",
       "       9.98406442e-01, 1.65085783e-01, 5.93968946e-01, 1.14154653e-01,\n",
       "       4.35954114e-01, 3.04462039e-01, 4.81779619e-02, 7.50984007e-01,\n",
       "       8.55771582e-01, 2.81181840e-01, 8.73558760e-01, 5.80226772e-01,\n",
       "       3.13506021e-01, 9.49950356e-01, 2.41674593e-01, 3.43050478e-01,\n",
       "       9.88096766e-01, 2.33741674e-01, 3.91089207e-01, 1.61260882e-01,\n",
       "       8.59505424e-01, 4.02170220e-01, 3.37427595e-03, 6.32533851e-01,\n",
       "       1.16664147e-01, 1.06214626e-02, 7.36090136e-01, 2.45200877e-01,\n",
       "       1.59761496e-01, 1.45870848e-01, 8.12605572e-01, 8.57731644e-01,\n",
       "       5.25011676e-02, 3.90414131e-01, 9.48344681e-01, 3.28666899e-02,\n",
       "       4.13706461e-01, 8.72478277e-01, 2.51913586e-01, 9.22212172e-01,\n",
       "       7.09715107e-02, 2.82146960e-01, 2.10503841e-01, 8.20572544e-02,\n",
       "       7.35838970e-01, 3.67812925e-01, 4.99273860e-01, 4.52203768e-01,\n",
       "       5.06840681e-02, 8.74247072e-01, 9.00618906e-01, 1.57954942e-01,\n",
       "       9.84055497e-01, 2.13862613e-01, 9.02896673e-01, 5.68098449e-01,\n",
       "       1.67870267e-01, 5.87069610e-01, 1.53246342e-01, 3.62510976e-01,\n",
       "       5.07793690e-01, 5.33583971e-01, 4.57667792e-01, 8.24002871e-01,\n",
       "       2.25656636e-01, 9.01557748e-02, 8.09609553e-01, 1.09074926e-01,\n",
       "       4.80489350e-01, 3.61110710e-01, 5.47610054e-02, 1.75238041e-01,\n",
       "       1.92193716e-01, 2.30347379e-01, 5.31957323e-01, 1.42827386e-02,\n",
       "       6.71683383e-01, 1.59474416e-01, 4.49628555e-02, 2.64522797e-01,\n",
       "       1.36189627e-01, 4.21671030e-01, 3.92945098e-01, 5.08800091e-01,\n",
       "       2.43241628e-01, 7.70306941e-01, 2.83158822e-01, 8.76699565e-01,\n",
       "       3.52899665e-01, 3.35315564e-01, 8.35430450e-01, 1.57762107e-01,\n",
       "       7.15681106e-01, 6.30775747e-01, 4.97803819e-01, 2.84278473e-01,\n",
       "       5.89026600e-01, 5.60523101e-01, 8.42148207e-01, 8.31438146e-01,\n",
       "       5.22962196e-01, 4.54668542e-02, 2.19924303e-01, 6.75170509e-01,\n",
       "       6.63476657e-01, 6.47767510e-01, 3.28044596e-01, 6.15794798e-01,\n",
       "       2.53194266e-01, 3.96974300e-02, 8.66917276e-01, 7.67370286e-01,\n",
       "       9.69602778e-01, 2.84005849e-01, 4.31252833e-02, 3.02317299e-01,\n",
       "       3.45343389e-01, 8.65609469e-01, 9.46263014e-01, 5.17046542e-01,\n",
       "       9.40394045e-01, 4.94174060e-01, 4.08225987e-01, 8.03643289e-01,\n",
       "       6.75930677e-01, 2.64959357e-01, 2.38886913e-01, 2.32165515e-01,\n",
       "       6.02080608e-01, 8.43144736e-01, 7.23541126e-02, 7.79416716e-01,\n",
       "       8.49344624e-01, 4.50475919e-01, 2.18978338e-01, 9.12598350e-01,\n",
       "       6.91398786e-01, 6.02781049e-02, 9.35788699e-01, 6.08962270e-01,\n",
       "       2.08811215e-01, 1.08004943e-01, 9.86125403e-01, 3.20503039e-02,\n",
       "       2.72058169e-03, 2.65038188e-01, 8.68098115e-01, 2.63736091e-01,\n",
       "       1.51625734e-01, 8.75104710e-01, 6.91052345e-01, 6.57264364e-03,\n",
       "       8.90848884e-01, 4.92672921e-01, 3.02420688e-01, 4.91035694e-01,\n",
       "       3.35798247e-01, 7.95046559e-02, 5.77039191e-01, 9.84758731e-01,\n",
       "       5.00119884e-01, 7.77224326e-01, 6.75587701e-02, 8.43535396e-02,\n",
       "       7.68113541e-01, 9.25839279e-02, 1.89808310e-02, 1.44632253e-01,\n",
       "       4.70037405e-01, 6.42580253e-01, 5.14887464e-01, 4.05950521e-01,\n",
       "       9.26364569e-01, 6.00158786e-02, 2.51323389e-01, 6.19244368e-01,\n",
       "       7.62572873e-01, 4.06954215e-01, 9.25378988e-01, 6.06046581e-01,\n",
       "       4.48669197e-01, 9.80232126e-01, 5.07607684e-01, 1.10794611e-01,\n",
       "       8.68312329e-01, 9.29185381e-01, 6.90210487e-02, 9.26462422e-01,\n",
       "       3.62326132e-01, 8.02957618e-01, 7.54233398e-01, 1.55996812e-01,\n",
       "       9.35464974e-01, 4.97283105e-01, 6.13089031e-01, 7.49819891e-01,\n",
       "       6.19489943e-01, 6.81926144e-01, 6.07756003e-01, 1.22617243e-01,\n",
       "       9.33790866e-01, 3.59943700e-01, 3.01597795e-02, 1.36550489e-01,\n",
       "       1.76739925e-01, 2.04775817e-01, 4.03797326e-01, 4.25075280e-01,\n",
       "       4.73563458e-01, 9.07074547e-01, 9.38801286e-01, 8.80285654e-01,\n",
       "       3.19957344e-01, 1.33830735e-01, 3.70850230e-01, 8.80975814e-01,\n",
       "       1.40732149e-01, 2.31724715e-01, 8.96183052e-01, 3.74190187e-01,\n",
       "       5.05320815e-01, 9.92068481e-01, 1.75444309e-01, 9.30295477e-01,\n",
       "       2.00285494e-01, 8.61791621e-01, 9.90181674e-01, 4.02291716e-01,\n",
       "       4.90842659e-01, 9.34263419e-01, 9.04133162e-01, 1.88505292e-01,\n",
       "       2.27141536e-01, 6.12179349e-01, 5.21150202e-02, 8.73057487e-01,\n",
       "       2.29007837e-01, 3.93212413e-01, 1.11172575e-01, 8.00038297e-01,\n",
       "       5.56715431e-03, 4.01515091e-01, 2.74283868e-01, 7.24545047e-01,\n",
       "       3.57861529e-01, 7.08651956e-01, 2.99399443e-01, 5.89015843e-01,\n",
       "       1.38007483e-01, 6.97631500e-01, 5.40280800e-02, 6.87429226e-01,\n",
       "       5.42175881e-01, 8.62610340e-01, 3.81267869e-01, 8.24415777e-01,\n",
       "       7.02192335e-01, 6.13525869e-01, 3.21368720e-01, 5.28645723e-01,\n",
       "       4.15515187e-01, 3.97504620e-01, 8.58778169e-01, 6.00233490e-01,\n",
       "       6.32144179e-01, 5.92958336e-01, 3.46337397e-01, 9.79778186e-01,\n",
       "       6.13605868e-01, 2.73389150e-01, 1.24274984e-01, 1.36986665e-01,\n",
       "       5.58105172e-01, 3.04680324e-01, 5.50669741e-01, 7.02586655e-01,\n",
       "       4.33602415e-01, 1.62063893e-01, 6.53479259e-01, 6.02675649e-01,\n",
       "       2.78906842e-01, 3.53754576e-01, 6.99728069e-01, 2.31243440e-01,\n",
       "       6.50810092e-01, 2.51555956e-01, 2.90632213e-01, 8.68552547e-01,\n",
       "       7.70837931e-01, 3.70831517e-01, 6.11786936e-01, 4.49812518e-01,\n",
       "       8.50050981e-01, 2.32695166e-01, 9.02588340e-01, 1.51454987e-01,\n",
       "       3.56985946e-01, 3.89922473e-01, 8.85621413e-01, 2.82708921e-02,\n",
       "       5.18352434e-01, 2.78505959e-01, 7.23022318e-01, 8.02354121e-01,\n",
       "       2.65473473e-01, 3.18489930e-01, 3.70225455e-01, 4.26363336e-01,\n",
       "       6.96319408e-01, 6.08076933e-01, 1.16906203e-01, 8.71708596e-01,\n",
       "       2.38581359e-01, 9.43636745e-01, 5.86091670e-01, 6.36604401e-01,\n",
       "       2.37643293e-01, 1.94806211e-01, 9.07464936e-01, 9.34625355e-01,\n",
       "       9.45038938e-01, 5.61820627e-01, 1.25477189e-01, 2.01098181e-01,\n",
       "       1.09250571e-01, 8.99077188e-01, 7.41341172e-01, 6.93057536e-01,\n",
       "       7.54926752e-01, 4.10390267e-01, 4.92164902e-01, 3.31486714e-01,\n",
       "       5.20788248e-01, 5.32906072e-01, 6.02647561e-01, 6.69364705e-01,\n",
       "       5.96773673e-01, 4.27799540e-01, 4.76272127e-01, 1.78600345e-01,\n",
       "       4.83929936e-01, 4.52380688e-01, 1.93394177e-01, 7.88403358e-01,\n",
       "       5.88814124e-01, 7.94595117e-01, 3.70545098e-01, 2.43824614e-01,\n",
       "       8.53893658e-01, 9.01383081e-01, 4.93738158e-01, 9.48536351e-01,\n",
       "       1.82115663e-01, 7.79127031e-01, 6.16074208e-01, 2.88696232e-01,\n",
       "       7.06968033e-01, 1.04686439e-01, 3.24682306e-01, 1.83346501e-01,\n",
       "       9.19126428e-01, 9.65074876e-01, 7.99824934e-01, 1.71258203e-01,\n",
       "       8.57641915e-02, 7.43792143e-02, 8.45078265e-01, 9.43049452e-01,\n",
       "       5.74541926e-01, 2.20307542e-01, 4.15502540e-01, 5.07429755e-01,\n",
       "       1.51886097e-01, 2.90146776e-02, 5.55616573e-02, 5.26003406e-01,\n",
       "       5.63377369e-01, 3.72637125e-02, 9.77719198e-01, 7.69364702e-01,\n",
       "       1.73327772e-02, 5.30100015e-01, 2.00231766e-01, 5.15874390e-01,\n",
       "       8.87019334e-01, 1.55972771e-01, 2.09920094e-01, 8.08335031e-01,\n",
       "       4.53009216e-01, 2.03368059e-01, 1.34086251e-04, 3.74971794e-01,\n",
       "       8.43006825e-01, 1.36197107e-01, 5.95785696e-01, 8.81908671e-01,\n",
       "       6.39276031e-01, 5.03631627e-01, 4.58697378e-01, 3.97763243e-01,\n",
       "       1.27254269e-01, 4.40565945e-01, 5.44922680e-01, 6.23197349e-01,\n",
       "       8.85248569e-01, 5.85152343e-01, 7.65722031e-01, 6.81128493e-01,\n",
       "       6.66253715e-02, 6.28775746e-02, 8.77291630e-01, 5.70965637e-02,\n",
       "       4.55815632e-01, 6.16080838e-01, 8.93482202e-02, 4.58203487e-02,\n",
       "       8.73720439e-02, 1.57459764e-01, 2.77624702e-01, 2.54244885e-01,\n",
       "       4.63432691e-01, 8.52702264e-01, 9.49971264e-01, 4.69360696e-01,\n",
       "       8.13297526e-01, 3.32565295e-01, 2.49808587e-01, 5.00274851e-01,\n",
       "       5.66882103e-01, 9.84403572e-01, 5.47954609e-01, 9.79452654e-01,\n",
       "       7.14854524e-01, 8.54147776e-01, 3.21496236e-01, 9.96122281e-01,\n",
       "       3.53815944e-01, 9.79168829e-02, 5.55793462e-01, 6.19771581e-01,\n",
       "       9.55902882e-01, 8.72889675e-02, 7.66571661e-01, 1.21647988e-01,\n",
       "       7.58110246e-01, 3.72182977e-02, 8.39199593e-01, 1.72242790e-01,\n",
       "       6.65451420e-01, 8.53063978e-01, 1.11657674e-01, 4.09185864e-01,\n",
       "       4.31433175e-01, 3.11036725e-01, 1.73704672e-03, 8.25401465e-01,\n",
       "       6.44105332e-01, 7.35921956e-01, 6.94131492e-01, 5.07054338e-01,\n",
       "       3.34585991e-01, 9.43773625e-01, 5.77306824e-01, 2.80163124e-03,\n",
       "       6.18832701e-01, 1.76819661e-01, 5.03747851e-01, 5.02038741e-01,\n",
       "       6.50859974e-01, 2.04781928e-01, 8.36111730e-01, 4.89348781e-01,\n",
       "       9.45127769e-01, 6.68751290e-01, 2.97133751e-01, 2.00406247e-01,\n",
       "       4.01992858e-01, 3.02221108e-01, 1.39134636e-02, 2.76836259e-01,\n",
       "       9.40907536e-01, 3.21249279e-01, 5.56718997e-01, 4.75709424e-01,\n",
       "       2.19532396e-01, 3.89663363e-01, 4.19182294e-01, 9.57995127e-01,\n",
       "       1.96199364e-01, 1.14666693e-01, 4.65386578e-01, 5.67178725e-01,\n",
       "       1.31436591e-01, 2.85914953e-01, 2.69728749e-01, 5.92427194e-01])"
      ]
     },
     "execution_count": 402,
     "metadata": {},
     "output_type": "execute_result"
    }
   ],
   "source": [
    "c"
   ]
  },
  {
   "cell_type": "code",
   "execution_count": 403,
   "id": "f089d4ac",
   "metadata": {},
   "outputs": [
    {
     "data": {
      "text/plain": [
       "(0.4984342083087761, 0.08646721947694556, 0.29405308955517806)"
      ]
     },
     "execution_count": 403,
     "metadata": {},
     "output_type": "execute_result"
    }
   ],
   "source": [
    "c.mean(), c.var(), c.std()"
   ]
  },
  {
   "cell_type": "code",
   "execution_count": 404,
   "id": "199c1f2f",
   "metadata": {},
   "outputs": [],
   "source": [
    "d = np.random.randn(10,3)"
   ]
  },
  {
   "cell_type": "code",
   "execution_count": 405,
   "id": "80f3ea17",
   "metadata": {},
   "outputs": [
    {
     "data": {
      "text/plain": [
       "array([[ 0.24154117,  1.37278012, -1.19458351],\n",
       "       [ 0.05086119,  0.87440165,  0.4221147 ],\n",
       "       [-0.92038302, -0.00711832, -1.44176496],\n",
       "       [ 0.4100729 , -0.76880797,  0.34086545],\n",
       "       [ 0.93687433,  1.26165355, -1.01837106],\n",
       "       [ 0.50989129, -0.16227725,  0.10851077],\n",
       "       [-0.39185773, -0.52037472, -0.77687499],\n",
       "       [-0.36599851,  2.51307057, -1.14871971],\n",
       "       [-2.4592337 , -0.36525685,  1.01094102],\n",
       "       [-0.62785078,  1.17257197,  0.23397171]])"
      ]
     },
     "execution_count": 405,
     "metadata": {},
     "output_type": "execute_result"
    }
   ],
   "source": [
    "d"
   ]
  },
  {
   "cell_type": "code",
   "execution_count": 406,
   "id": "9c3eb428",
   "metadata": {},
   "outputs": [
    {
     "data": {
      "text/plain": [
       "(-0.023645022355176785, 0.9909476393575617, 0.995463529898289)"
      ]
     },
     "execution_count": 406,
     "metadata": {},
     "output_type": "execute_result"
    }
   ],
   "source": [
    "d.mean(), d.var(), d.std()"
   ]
  },
  {
   "cell_type": "code",
   "execution_count": null,
   "id": "f343c55d",
   "metadata": {},
   "outputs": [],
   "source": [
    "#random integer, low,high,size; high is exclusive"
   ]
  },
  {
   "cell_type": "code",
   "execution_count": 407,
   "id": "43229356",
   "metadata": {},
   "outputs": [],
   "source": [
    "e = np.random.randint(3,10,size=(3,3))  #if we only pas parameter"
   ]
  },
  {
   "cell_type": "code",
   "execution_count": 411,
   "id": "d53a6bf2",
   "metadata": {},
   "outputs": [
    {
     "data": {
      "text/plain": [
       "array([[8, 7, 3],\n",
       "       [9, 4, 6],\n",
       "       [7, 3, 6]])"
      ]
     },
     "execution_count": 411,
     "metadata": {},
     "output_type": "execute_result"
    }
   ],
   "source": [
    "e"
   ]
  },
  {
   "cell_type": "code",
   "execution_count": 412,
   "id": "f975ab9d",
   "metadata": {},
   "outputs": [],
   "source": [
    "#with integer is between 0 up to integer exclusive"
   ]
  },
  {
   "cell_type": "code",
   "execution_count": 413,
   "id": "b974131b",
   "metadata": {},
   "outputs": [],
   "source": [
    "f = np.random.choice(7, size=10)"
   ]
  },
  {
   "cell_type": "code",
   "execution_count": 414,
   "id": "764abad6",
   "metadata": {},
   "outputs": [
    {
     "data": {
      "text/plain": [
       "array([5, 3, 2, 0, 4, 0, 4, 0, 6, 1])"
      ]
     },
     "execution_count": 414,
     "metadata": {},
     "output_type": "execute_result"
    }
   ],
   "source": [
    "f"
   ]
  },
  {
   "cell_type": "code",
   "execution_count": null,
   "id": "6a46d253",
   "metadata": {},
   "outputs": [],
   "source": [
    "#with an array it draws random values from this array"
   ]
  },
  {
   "cell_type": "code",
   "execution_count": 417,
   "id": "921352bf",
   "metadata": {},
   "outputs": [],
   "source": [
    "g = np.random.choice([10,22,39,46], size =9)"
   ]
  },
  {
   "cell_type": "code",
   "execution_count": 418,
   "id": "d906fe59",
   "metadata": {},
   "outputs": [
    {
     "data": {
      "text/plain": [
       "array([22, 10, 10, 22, 10, 39, 22, 10, 22])"
      ]
     },
     "execution_count": 418,
     "metadata": {},
     "output_type": "execute_result"
    }
   ],
   "source": [
    "g"
   ]
  },
  {
   "cell_type": "code",
   "execution_count": null,
   "id": "3c07ea9f",
   "metadata": {},
   "outputs": [],
   "source": [
    "#linear algebra with numpy"
   ]
  },
  {
   "cell_type": "code",
   "execution_count": 420,
   "id": "42db0379",
   "metadata": {},
   "outputs": [],
   "source": [
    "a = np.array([[1,2],[3,4]])"
   ]
  },
  {
   "cell_type": "code",
   "execution_count": 421,
   "id": "a5e657bf",
   "metadata": {},
   "outputs": [],
   "source": [
    "eigenvalues, eigenvectors = np.linalg.eig(a)    #eigh if symmetric"
   ]
  },
  {
   "cell_type": "code",
   "execution_count": 422,
   "id": "e5523b5b",
   "metadata": {},
   "outputs": [
    {
     "name": "stdout",
     "output_type": "stream",
     "text": [
      "[-0.37228132  5.37228132]\n",
      "[[-0.82456484 -0.41597356]\n",
      " [ 0.56576746 -0.90937671]]\n"
     ]
    }
   ],
   "source": [
    "print(eigenvalues)\n",
    "print(eigenvectors)  #column vectors"
   ]
  },
  {
   "cell_type": "code",
   "execution_count": 423,
   "id": "b7c2da84",
   "metadata": {},
   "outputs": [
    {
     "name": "stdout",
     "output_type": "stream",
     "text": [
      "[-0.82456484  0.56576746]\n"
     ]
    }
   ],
   "source": [
    "print(eigenvectors[:,0])"
   ]
  },
  {
   "cell_type": "code",
   "execution_count": null,
   "id": "c0dcffd3",
   "metadata": {},
   "outputs": [],
   "source": [
    "#solving linear systems with numpy"
   ]
  },
  {
   "cell_type": "code",
   "execution_count": null,
   "id": "7971bcc3",
   "metadata": {},
   "outputs": [],
   "source": [
    "#x1+2 x2 =2200\n",
    "#1.5 x1+4 x2 = 5050\n",
    "\n",
    "#2 equations and 2 unknown"
   ]
  },
  {
   "cell_type": "code",
   "execution_count": 432,
   "id": "5e425730",
   "metadata": {},
   "outputs": [],
   "source": [
    "A = np.array([[1,2],[1.5,4]])\n",
    "b = np.array([2200,5050])\n"
   ]
  },
  {
   "cell_type": "code",
   "execution_count": 433,
   "id": "b84a823c",
   "metadata": {},
   "outputs": [],
   "source": [
    "#BUt: inverse is slow and less accurate"
   ]
  },
  {
   "cell_type": "code",
   "execution_count": 434,
   "id": "e8e2dbda",
   "metadata": {},
   "outputs": [],
   "source": [
    "x = np.linalg.inv(A).dot(b)  #not recommended"
   ]
  },
  {
   "cell_type": "code",
   "execution_count": 435,
   "id": "b7f1205e",
   "metadata": {},
   "outputs": [
    {
     "name": "stdout",
     "output_type": "stream",
     "text": [
      "[-1300.  1750.]\n"
     ]
    }
   ],
   "source": [
    "print(x)"
   ]
  },
  {
   "cell_type": "code",
   "execution_count": 436,
   "id": "f44b5a0e",
   "metadata": {},
   "outputs": [],
   "source": [
    "#instead use"
   ]
  },
  {
   "cell_type": "code",
   "execution_count": 437,
   "id": "96ad48c5",
   "metadata": {},
   "outputs": [],
   "source": [
    "x = np.linalg.solve(A,b)"
   ]
  },
  {
   "cell_type": "code",
   "execution_count": 438,
   "id": "d938e268",
   "metadata": {},
   "outputs": [
    {
     "name": "stdout",
     "output_type": "stream",
     "text": [
      "[-1300.  1750.]\n"
     ]
    }
   ],
   "source": [
    "print(x)"
   ]
  },
  {
   "cell_type": "code",
   "execution_count": null,
   "id": "d53d4f4a",
   "metadata": {},
   "outputs": [],
   "source": [
    "#load data from csv files\n",
    "#1) load with np.loadtxt()\n",
    "#skiprows=1, ..."
   ]
  },
  {
   "cell_type": "code",
   "execution_count": null,
   "id": "9151a1cb",
   "metadata": {},
   "outputs": [],
   "source": [
    "data = np.loadtxt('my_file.csv', delimiter=\",\", dtype=np.float32)"
   ]
  },
  {
   "cell_type": "code",
   "execution_count": null,
   "id": "d6119b40",
   "metadata": {},
   "outputs": [],
   "source": [
    "#2)load with np.genfromtxt\n",
    "#similar but slight more configuration parameters\n",
    "#skip_header=0, missing_values=\"__\", filling_values=0.0,..."
   ]
  },
  {
   "cell_type": "code",
   "execution_count": null,
   "id": "a1a5c04f",
   "metadata": {},
   "outputs": [],
   "source": [
    "data = np.genfromtxt('my_file.csv', delimiter=\",\",  dtype= np.float32)"
   ]
  }
 ],
 "metadata": {
  "kernelspec": {
   "display_name": "Python 3 (ipykernel)",
   "language": "python",
   "name": "python3"
  },
  "language_info": {
   "codemirror_mode": {
    "name": "ipython",
    "version": 3
   },
   "file_extension": ".py",
   "mimetype": "text/x-python",
   "name": "python",
   "nbconvert_exporter": "python",
   "pygments_lexer": "ipython3",
   "version": "3.9.12"
  }
 },
 "nbformat": 4,
 "nbformat_minor": 5
}
